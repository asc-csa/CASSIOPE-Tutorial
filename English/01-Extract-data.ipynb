{
 "cells": [
  {
   "cell_type": "markdown",
   "id": "800c0239",
   "metadata": {},
   "source": [
    "# CASSIOPE-Extract-Data\n",
    "***\n",
    "\n",
    "**Tutorial :** This tutorial explains how to extract CASSIOPE data with the University of Calgary platforms.    \n",
    "**Mission and Instrument :** CASSIOPE    \n",
    "**Astronomical Target :** Study ionosphere    \n",
    "**Primary Tools :** eDex Web    \n",
    "**System Requirements :** Access to Internet   \n",
    "**Tutorial Level :** Intermediate    \n",
    "\n",
    "There are two places where we have access to CASSIOPE E-POP data. They are summarized [here](https://epop.phys.ucalgary.ca/data/) with more info and tools. Shout out to the University of Calgary for their help and advice in developing this tutorial."
   ]
  },
  {
   "cell_type": "markdown",
   "id": "b26a9882",
   "metadata": {},
   "source": [
    "## HTTP Access\n",
    "***\n",
    "\n",
    "The [HTTP access](https://epop-data.phys.ucalgary.ca/) is useful for file browsing, checking the availibility of the data and looking at the file type per instrument. The data is sorted by day.\n",
    "\n",
    "## eDex Web\n",
    "***\n",
    "\n",
    "[eDex Web](https://edex.phys.ucalgary.ca/) (e-POP Data Explorer website) is an API which finds and downloads data by date, geophysical and e-POP constraints. There are two ways to extract the data :\n",
    "\n",
    "1. You can build your query online, fetch the results and receive the files via email.\n",
    "2. You can use a python script to send your query and you will receive the files via email. \n",
    "\n",
    "For further information, there is [documentation](https://epop.phys.ucalgary.ca/data-handbook/edex-api-documentation/) on the University of Calgary website.\n",
    "\n",
    "### Online\n",
    "\n",
    "The eDex is organized with seven tabs : *Output Product Selection*, *Date Constraints*, *Geophysical Constraints*, *e-POP Constraints*, *Planned Experiment Constraints*, *Query Builder* and *Results*. To navigate between them, it's better to click on the tab than click on the button *Next Step...*. Let's see what each tab is about.\n",
    "\n",
    "#### Output Product Selection\n",
    "\n",
    "When you first load the eDex, you are in the *Output Product Selection* where you can select what kind of files you'd like to download. To better understand the files, you can look at the [handbook](https://epop.phys.ucalgary.ca/data-handbook/) or you can check the [HTTP access](https://epop-data.phys.ucalgary.ca/).\n",
    "\n",
    "#### Date Constraints\n",
    "\n",
    "The *Date Constraints* tab is self-explanatory. You select the period for which you want the files. Once you are done choosing your start and end dates, you click on *Add Constraint*. You can add as many periods as you want. You can also update or delete a constraint by selecting it on the right of your screen under *Constraints* and clicking on the corresponding button.\n",
    "\n",
    "#### Geophysical Constraints\n",
    "\n",
    "With this tab, you can filter data with certain metrics. To see what is behind the ..., you need to select an option in the section above.\n",
    "\n",
    "#### e-POP Constraints\n",
    "\n",
    "Most of the *e-POP Constraints* are specific to each instrument. You can also add a constraint about the spacecraft position or attitude. The field *Has Data* doesn't seem to have influence on the results in most of the cases.\n",
    "\n",
    "#### Planned Experiment Constraints\n",
    "\n",
    "This tab is used for a specific experiment made on the data. For example, with *Point of Interest* -> *Fort McMurray Fire* and with the dates for this event, you'll see some data related to those fires in 2016.\n",
    "\n",
    "#### Query Builder\n",
    "\n",
    "This tab is probably one of the most important and with to most influence on your extraction. With the constraints you added on the right and their ID, you need to build the logic betweem them. For exemple, if I wanted to compare data from November 2017 (1) and data from November 2018 (2), I would need the OR operator (1 OR 2). Once you have written the logic, it's important to click *Set Query*.\n",
    "\n",
    "#### Results\n",
    "\n",
    "This is the final step before downloading your data. You simply need to click on *Fetch Results...*, look at the files list (and uncheck files if needed), enter you email and click on *Download Results...*. You'll receive the data via email a couple of minutes later in a .zip file.\n",
    "\n",
    "### Python Script\n",
    "\n",
    "The following script is a simplified version of the one available on the University of Calgary [website](https://epop.phys.ucalgary.ca/data-handbook/edex-api-documentation/) made by Troy Kachor. It is a request to eDex for the HDF5 files from the FAI instrument on May 1st 2019. We will use those files in the FAI-example."
   ]
  },
  {
   "cell_type": "code",
   "execution_count": 1,
   "id": "a1661a21",
   "metadata": {},
   "outputs": [
    {
     "name": "stdout",
     "output_type": "stream",
     "text": [
      "List of files corresponding to your request :\n",
      "['FAI_lv1_h5_20190501_150534_151306_6.0.0.zip   540.57MB', 'FAI_lv1_h5_20190501_164634_165406_6.0.0.zip   542.65MB', 'FAI_lv1_h5_20190501_182724_183456_6.0.0.zip   543.11MB']\n",
      "Status of your request :\n",
      "<Response [200]>\n",
      "Preparing report... You will receive an email from esoc@phys.ucalgary.ca shortly.\n"
     ]
    }
   ],
   "source": [
    "import requests\n",
    "\n",
    "# URL to fetch the data\n",
    "API_fetch = \"https://api.edex.phys.ucalgary.ca/api_fetch_data\"\n",
    "\n",
    "# Where the file names will be stocked\n",
    "filename_list = []\n",
    "\n",
    "# Build the query (don't forget to change the email address)\n",
    "PARAMS = {\n",
    "            'product': ['fai-lv1-hdf5-images'],\n",
    "            'date': [['2019-05-01', '2019-05-01']],\n",
    "            'fai': ['has-data'],\n",
    "            'email': \"youremail@example.ca\",\n",
    "            'result_filenames': filename_list,\n",
    "            'query-logic': ' ( 1 AND 2 ) '\n",
    "          }\n",
    "\n",
    "# Get the list of files\n",
    "r = requests.get(url=API_fetch, json=PARAMS)\n",
    "\n",
    "# Assign the list of files to filename_list\n",
    "filename_list = r.json()[\"result_filenames\"]\n",
    "\n",
    "# Print the list of files\n",
    "print(\"List of files corresponding to your request :\")\n",
    "print(filename_list)\n",
    "\n",
    "# URL to download the files\n",
    "API_get = \"https://edex.phys.ucalgary.ca/api_prepare_report\"\n",
    "\n",
    "# Update dict with returned filenames list\n",
    "PARAMS['result_filenames'] = filename_list\n",
    "\n",
    "# Send request\n",
    "status = requests.post(url=API_get, json=PARAMS)\n",
    "\n",
    "# Status message\n",
    "print('Status of your request :')\n",
    "print(status)\n",
    "print(status.text)"
   ]
  },
  {
   "cell_type": "markdown",
   "id": "df0fb5e9",
   "metadata": {},
   "source": [
    "After running this script, you'll need to wait a couple of minutes before receiving an email with your data. For more information on how to use this kind of script and the parameters, visit the [API Documentation](https://epop.phys.ucalgary.ca/data-handbook/edex-api-documentation/)."
   ]
  },
  {
   "cell_type": "markdown",
   "id": "13dfe277",
   "metadata": {},
   "source": [
    "## Extract files from zipped folder\n",
    "***\n",
    "When you receive a download link by email from the University of Calgary with your files, you download a zipped (.zip) folder. Here's how you can extract the files from a zipped folder with recent version of Windows.\n",
    "\n",
    "1. Go to the directory where your zipped folder is.\n",
    "2. Do a right-click on the zipped folder.\n",
    "3. Click \"Extract all...\".\n",
    "4. Choose where you want your files.\n",
    "5. Click \"Extract\".\n",
    "\n",
    "Depending on how many files you downloaded, it might takes some time."
   ]
  }
 ],
 "metadata": {
  "kernelspec": {
   "display_name": "Python 3",
   "language": "python",
   "name": "python3"
  },
  "language_info": {
   "codemirror_mode": {
    "name": "ipython",
    "version": 3
   },
   "file_extension": ".py",
   "mimetype": "text/x-python",
   "name": "python",
   "nbconvert_exporter": "python",
   "pygments_lexer": "ipython3",
   "version": "3.8.8"
  }
 },
 "nbformat": 4,
 "nbformat_minor": 5
}
